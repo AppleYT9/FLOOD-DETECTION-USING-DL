{
  "cells": [
    {
      "cell_type": "markdown",
      "metadata": {
        "id": "view-in-github",
        "colab_type": "text"
      },
      "source": [
        "<a href=\"https://colab.research.google.com/github/AppleYT9/Flood-detection-using-DL/blob/main/Flood_Detection_using_DL.ipynb\" target=\"_parent\"><img src=\"https://colab.research.google.com/assets/colab-badge.svg\" alt=\"Open In Colab\"/></a>"
      ]
    },
    {
      "cell_type": "code",
      "execution_count": 77,
      "metadata": {
        "id": "3YIpnL_08R1c"
      },
      "outputs": [],
      "source": [
        "import os #\n",
        "import shutil #\n",
        "import random #\n",
        "import itertools #\n",
        "%matplotlib inline\n",
        "import numpy as np #\n",
        "import tensorflow as tf #\n",
        "import matplotlib as mpl #\n",
        "from keras import backend #\n",
        "\n",
        "from tensorflow import keras\n",
        "import matplotlib.pyplot as plt\n",
        "from sklearn.metrics import f1_score #\n",
        "from sklearn.metrics import accuracy_score #\n",
        "from tensorflow.keras.models import Model\n",
        "from tensorflow.keras.optimizers import Adam\n",
        "from sklearn.metrics import confusion_matrix #\n",
        "from keras.applications import imagenet_utils\n",
        "from tensorflow.keras.preprocessing import image\n",
        "from tensorflow.keras.layers import Dense, Activation\n",
        "from sklearn.metrics import precision_score, recall_score\n",
        "from tensorflow.keras.metrics import categorical_crossentropy\n",
        "from tensorflow.keras.preprocessing.image import ImageDataGenerator\n",
        "from tensorflow.keras.applications.mobilenet import decode_predictions, preprocess_input"
      ]
    },
    {
      "cell_type": "code",
      "execution_count": 78,
      "metadata": {
        "colab": {
          "base_uri": "https://localhost:8080/"
        },
        "id": "SnJ8Lmi681Cw",
        "outputId": "6c93d13e-9519-4b59-ec75-d6e46f2e3f20"
      },
      "outputs": [
        {
          "output_type": "stream",
          "name": "stdout",
          "text": [
            "Found 285 images belonging to 2 classes.\n",
            "Found 105 images belonging to 2 classes.\n",
            "Found 102 images belonging to 2 classes.\n"
          ]
        }
      ],
      "source": [
        "labels = ['Flooding', 'No Flooding']\n",
        "train_path = '/content/drive/MyDrive/Resume Projects/Deep Learning/train'\n",
        "valid_path = '/content/drive/MyDrive/Resume Projects/Deep Learning/valid'\n",
        "test_path = '/content/drive/MyDrive/Resume Projects/Deep Learning/test'\n",
        "\n",
        "train_batches = ImageDataGenerator(preprocessing_function=tf.keras.applications.mobilenet.preprocess_input).flow_from_directory(\n",
        "    directory=train_path, target_size=(224,224), batch_size=10)\n",
        "valid_batches = ImageDataGenerator(preprocessing_function=tf.keras.applications.mobilenet.preprocess_input).flow_from_directory(\n",
        "    directory=valid_path, target_size=(224,224), batch_size=10)\n",
        "test_batches = ImageDataGenerator(preprocessing_function=tf.keras.applications.mobilenet.preprocess_input).flow_from_directory(\n",
        "    directory=test_path, target_size=(224,224), batch_size=10, shuffle=False)"
      ]
    },
    {
      "cell_type": "code",
      "source": [
        "from google.colab import drive\n",
        "drive.mount('/content/drive')"
      ],
      "metadata": {
        "colab": {
          "base_uri": "https://localhost:8080/"
        },
        "id": "lfU5Xy7CYube",
        "outputId": "f2f29df8-0cf3-4a5c-af10-1317f820b7b1"
      },
      "execution_count": 79,
      "outputs": [
        {
          "output_type": "stream",
          "name": "stdout",
          "text": [
            "Drive already mounted at /content/drive; to attempt to forcibly remount, call drive.mount(\"/content/drive\", force_remount=True).\n"
          ]
        }
      ]
    },
    {
      "cell_type": "code",
      "execution_count": 80,
      "metadata": {
        "id": "7oWY2yVa9EqV"
      },
      "outputs": [],
      "source": [
        "mobile = tf.keras.applications.mobilenet.MobileNet()"
      ]
    },
    {
      "cell_type": "code",
      "execution_count": 81,
      "metadata": {
        "id": "2_4tHzMS9RE1"
      },
      "outputs": [],
      "source": [
        "x = mobile.layers[-6].output"
      ]
    },
    {
      "cell_type": "code",
      "execution_count": 82,
      "metadata": {
        "id": "V8ilqouk9WBW"
      },
      "outputs": [],
      "source": [
        "output = Dense(units=2, activation='softmax')(x)"
      ]
    },
    {
      "cell_type": "code",
      "execution_count": null,
      "metadata": {
        "id": "Rtj1c8GS9Xze"
      },
      "outputs": [],
      "source": [
        "model = Model(inputs=mobile.input, outputs=output)"
      ]
    },
    {
      "cell_type": "code",
      "execution_count": null,
      "metadata": {
        "id": "Yppy0MHa98fs"
      },
      "outputs": [],
      "source": [
        "for layer in model.layers[:-23]:\n",
        "    layer.trainable = False"
      ]
    },
    {
      "cell_type": "code",
      "execution_count": null,
      "metadata": {
        "id": "7ZrvWcBw-HDK"
      },
      "outputs": [],
      "source": [
        "from tensorflow.keras.models import Sequential\n",
        "from tensorflow.keras.layers import GlobalAveragePooling2D, Dense\n",
        "from tensorflow.keras.applications import MobileNetV2\n",
        "from tensorflow.keras.optimizers import Adam\n",
        "\n",
        "# Load MobileNetV2 as the feature extractor\n",
        "base_model = MobileNetV2(input_shape=(224, 224, 3), include_top=False, weights='imagenet')\n",
        "\n",
        "# Freeze base model layers\n",
        "base_model.trainable = False\n",
        "\n",
        "# Build the model\n",
        "model = Sequential([\n",
        "    base_model,\n",
        "    GlobalAveragePooling2D(),  # Fix shape mismatch\n",
        "    Dense(2, activation='softmax')  # Match 2 classes: 'Flooding' & 'No Flooding'\n",
        "])"
      ]
    },
    {
      "cell_type": "code",
      "execution_count": null,
      "metadata": {
        "id": "SevrAany-MJd"
      },
      "outputs": [],
      "source": [
        "model.compile(optimizer=Adam(learning_rate=0.0001), loss='categorical_crossentropy', metrics=['accuracy'])"
      ]
    },
    {
      "cell_type": "code",
      "execution_count": null,
      "metadata": {
        "colab": {
          "base_uri": "https://localhost:8080/",
          "height": 241
        },
        "id": "6e1W0_5S-QNl",
        "outputId": "e305f94c-1231-461f-d2f0-79556f12ebeb"
      },
      "outputs": [
        {
          "output_type": "display_data",
          "data": {
            "text/plain": [
              "\u001b[1mModel: \"sequential_3\"\u001b[0m\n"
            ],
            "text/html": [
              "<pre style=\"white-space:pre;overflow-x:auto;line-height:normal;font-family:Menlo,'DejaVu Sans Mono',consolas,'Courier New',monospace\"><span style=\"font-weight: bold\">Model: \"sequential_3\"</span>\n",
              "</pre>\n"
            ]
          },
          "metadata": {}
        },
        {
          "output_type": "display_data",
          "data": {
            "text/plain": [
              "┏━━━━━━━━━━━━━━━━━━━━━━━━━━━━━━━━━━━━━━┳━━━━━━━━━━━━━━━━━━━━━━━━━━━━━┳━━━━━━━━━━━━━━━━━┓\n",
              "┃\u001b[1m \u001b[0m\u001b[1mLayer (type)                        \u001b[0m\u001b[1m \u001b[0m┃\u001b[1m \u001b[0m\u001b[1mOutput Shape               \u001b[0m\u001b[1m \u001b[0m┃\u001b[1m \u001b[0m\u001b[1m        Param #\u001b[0m\u001b[1m \u001b[0m┃\n",
              "┡━━━━━━━━━━━━━━━━━━━━━━━━━━━━━━━━━━━━━━╇━━━━━━━━━━━━━━━━━━━━━━━━━━━━━╇━━━━━━━━━━━━━━━━━┩\n",
              "│ mobilenetv2_1.00_224 (\u001b[38;5;33mFunctional\u001b[0m)    │ (\u001b[38;5;45mNone\u001b[0m, \u001b[38;5;34m7\u001b[0m, \u001b[38;5;34m7\u001b[0m, \u001b[38;5;34m1280\u001b[0m)          │       \u001b[38;5;34m2,257,984\u001b[0m │\n",
              "├──────────────────────────────────────┼─────────────────────────────┼─────────────────┤\n",
              "│ global_average_pooling2d_7           │ (\u001b[38;5;45mNone\u001b[0m, \u001b[38;5;34m1280\u001b[0m)                │               \u001b[38;5;34m0\u001b[0m │\n",
              "│ (\u001b[38;5;33mGlobalAveragePooling2D\u001b[0m)             │                             │                 │\n",
              "├──────────────────────────────────────┼─────────────────────────────┼─────────────────┤\n",
              "│ dense_7 (\u001b[38;5;33mDense\u001b[0m)                      │ (\u001b[38;5;45mNone\u001b[0m, \u001b[38;5;34m2\u001b[0m)                   │           \u001b[38;5;34m2,562\u001b[0m │\n",
              "└──────────────────────────────────────┴─────────────────────────────┴─────────────────┘\n"
            ],
            "text/html": [
              "<pre style=\"white-space:pre;overflow-x:auto;line-height:normal;font-family:Menlo,'DejaVu Sans Mono',consolas,'Courier New',monospace\">┏━━━━━━━━━━━━━━━━━━━━━━━━━━━━━━━━━━━━━━┳━━━━━━━━━━━━━━━━━━━━━━━━━━━━━┳━━━━━━━━━━━━━━━━━┓\n",
              "┃<span style=\"font-weight: bold\"> Layer (type)                         </span>┃<span style=\"font-weight: bold\"> Output Shape                </span>┃<span style=\"font-weight: bold\">         Param # </span>┃\n",
              "┡━━━━━━━━━━━━━━━━━━━━━━━━━━━━━━━━━━━━━━╇━━━━━━━━━━━━━━━━━━━━━━━━━━━━━╇━━━━━━━━━━━━━━━━━┩\n",
              "│ mobilenetv2_1.00_224 (<span style=\"color: #0087ff; text-decoration-color: #0087ff\">Functional</span>)    │ (<span style=\"color: #00d7ff; text-decoration-color: #00d7ff\">None</span>, <span style=\"color: #00af00; text-decoration-color: #00af00\">7</span>, <span style=\"color: #00af00; text-decoration-color: #00af00\">7</span>, <span style=\"color: #00af00; text-decoration-color: #00af00\">1280</span>)          │       <span style=\"color: #00af00; text-decoration-color: #00af00\">2,257,984</span> │\n",
              "├──────────────────────────────────────┼─────────────────────────────┼─────────────────┤\n",
              "│ global_average_pooling2d_7           │ (<span style=\"color: #00d7ff; text-decoration-color: #00d7ff\">None</span>, <span style=\"color: #00af00; text-decoration-color: #00af00\">1280</span>)                │               <span style=\"color: #00af00; text-decoration-color: #00af00\">0</span> │\n",
              "│ (<span style=\"color: #0087ff; text-decoration-color: #0087ff\">GlobalAveragePooling2D</span>)             │                             │                 │\n",
              "├──────────────────────────────────────┼─────────────────────────────┼─────────────────┤\n",
              "│ dense_7 (<span style=\"color: #0087ff; text-decoration-color: #0087ff\">Dense</span>)                      │ (<span style=\"color: #00d7ff; text-decoration-color: #00d7ff\">None</span>, <span style=\"color: #00af00; text-decoration-color: #00af00\">2</span>)                   │           <span style=\"color: #00af00; text-decoration-color: #00af00\">2,562</span> │\n",
              "└──────────────────────────────────────┴─────────────────────────────┴─────────────────┘\n",
              "</pre>\n"
            ]
          },
          "metadata": {}
        },
        {
          "output_type": "display_data",
          "data": {
            "text/plain": [
              "\u001b[1m Total params: \u001b[0m\u001b[38;5;34m2,260,546\u001b[0m (8.62 MB)\n"
            ],
            "text/html": [
              "<pre style=\"white-space:pre;overflow-x:auto;line-height:normal;font-family:Menlo,'DejaVu Sans Mono',consolas,'Courier New',monospace\"><span style=\"font-weight: bold\"> Total params: </span><span style=\"color: #00af00; text-decoration-color: #00af00\">2,260,546</span> (8.62 MB)\n",
              "</pre>\n"
            ]
          },
          "metadata": {}
        },
        {
          "output_type": "display_data",
          "data": {
            "text/plain": [
              "\u001b[1m Trainable params: \u001b[0m\u001b[38;5;34m2,562\u001b[0m (10.01 KB)\n"
            ],
            "text/html": [
              "<pre style=\"white-space:pre;overflow-x:auto;line-height:normal;font-family:Menlo,'DejaVu Sans Mono',consolas,'Courier New',monospace\"><span style=\"font-weight: bold\"> Trainable params: </span><span style=\"color: #00af00; text-decoration-color: #00af00\">2,562</span> (10.01 KB)\n",
              "</pre>\n"
            ]
          },
          "metadata": {}
        },
        {
          "output_type": "display_data",
          "data": {
            "text/plain": [
              "\u001b[1m Non-trainable params: \u001b[0m\u001b[38;5;34m2,257,984\u001b[0m (8.61 MB)\n"
            ],
            "text/html": [
              "<pre style=\"white-space:pre;overflow-x:auto;line-height:normal;font-family:Menlo,'DejaVu Sans Mono',consolas,'Courier New',monospace\"><span style=\"font-weight: bold\"> Non-trainable params: </span><span style=\"color: #00af00; text-decoration-color: #00af00\">2,257,984</span> (8.61 MB)\n",
              "</pre>\n"
            ]
          },
          "metadata": {}
        }
      ],
      "source": [
        "model.summary()"
      ]
    },
    {
      "cell_type": "code",
      "execution_count": null,
      "metadata": {
        "colab": {
          "base_uri": "https://localhost:8080/"
        },
        "id": "rStZU-oJ-WF3",
        "outputId": "b362b798-8088-4c17-8bef-4d53b3dedfa3"
      },
      "outputs": [
        {
          "output_type": "stream",
          "name": "stdout",
          "text": [
            "Epoch 1/35\n",
            "29/29 - 26s - 910ms/step - accuracy: 0.9439 - loss: 0.1868 - val_accuracy: 0.9333 - val_loss: 0.2244\n",
            "Epoch 2/35\n",
            "29/29 - 0s - 1ms/step - accuracy: 0.0000e+00 - loss: 0.0000e+00\n",
            "Epoch 3/35\n",
            "29/29 - 41s - 1s/step - accuracy: 0.9439 - loss: 0.1801 - val_accuracy: 0.9333 - val_loss: 0.2166\n",
            "Epoch 4/35\n",
            "29/29 - 0s - 2ms/step - accuracy: 0.0000e+00 - loss: 0.0000e+00\n",
            "Epoch 5/35\n",
            "29/29 - 41s - 1s/step - accuracy: 0.9474 - loss: 0.1740 - val_accuracy: 0.9333 - val_loss: 0.2133\n",
            "Epoch 6/35\n",
            "29/29 - 3s - 113ms/step - accuracy: 0.0000e+00 - loss: 0.0000e+00\n",
            "Epoch 7/35\n",
            "29/29 - 37s - 1s/step - accuracy: 0.9509 - loss: 0.1701 - val_accuracy: 0.9429 - val_loss: 0.2065\n",
            "Epoch 8/35\n",
            "29/29 - 4s - 155ms/step - accuracy: 0.0000e+00 - loss: 0.0000e+00\n",
            "Epoch 9/35\n",
            "29/29 - 36s - 1s/step - accuracy: 0.9509 - loss: 0.1650 - val_accuracy: 0.9333 - val_loss: 0.2014\n",
            "Epoch 10/35\n",
            "29/29 - 5s - 159ms/step - accuracy: 0.0000e+00 - loss: 0.0000e+00\n",
            "Epoch 11/35\n",
            "29/29 - 37s - 1s/step - accuracy: 0.9544 - loss: 0.1589 - val_accuracy: 0.9619 - val_loss: 0.1982\n",
            "Epoch 12/35\n",
            "29/29 - 0s - 2ms/step - accuracy: 0.0000e+00 - loss: 0.0000e+00\n",
            "Epoch 13/35\n",
            "29/29 - 25s - 872ms/step - accuracy: 0.9544 - loss: 0.1548 - val_accuracy: 0.9429 - val_loss: 0.1919\n",
            "Epoch 14/35\n",
            "29/29 - 0s - 1ms/step - accuracy: 0.0000e+00 - loss: 0.0000e+00\n",
            "Epoch 15/35\n",
            "29/29 - 41s - 1s/step - accuracy: 0.9544 - loss: 0.1507 - val_accuracy: 0.9524 - val_loss: 0.1892\n",
            "Epoch 16/35\n",
            "29/29 - 0s - 1ms/step - accuracy: 0.0000e+00 - loss: 0.0000e+00\n",
            "Epoch 17/35\n",
            "29/29 - 27s - 928ms/step - accuracy: 0.9579 - loss: 0.1467 - val_accuracy: 0.9619 - val_loss: 0.1809\n",
            "Epoch 18/35\n",
            "29/29 - 0s - 2ms/step - accuracy: 0.0000e+00 - loss: 0.0000e+00\n",
            "Epoch 19/35\n",
            "29/29 - 40s - 1s/step - accuracy: 0.9684 - loss: 0.1426 - val_accuracy: 0.9619 - val_loss: 0.1792\n",
            "Epoch 20/35\n",
            "29/29 - 0s - 1ms/step - accuracy: 0.0000e+00 - loss: 0.0000e+00\n",
            "Epoch 21/35\n",
            "29/29 - 41s - 1s/step - accuracy: 0.9649 - loss: 0.1393 - val_accuracy: 0.9619 - val_loss: 0.1726\n",
            "Epoch 22/35\n",
            "29/29 - 5s - 170ms/step - accuracy: 0.0000e+00 - loss: 0.0000e+00\n",
            "Epoch 23/35\n",
            "29/29 - 36s - 1s/step - accuracy: 0.9719 - loss: 0.1350 - val_accuracy: 0.9714 - val_loss: 0.1732\n",
            "Epoch 24/35\n",
            "29/29 - 0s - 1ms/step - accuracy: 0.0000e+00 - loss: 0.0000e+00\n",
            "Epoch 25/35\n",
            "29/29 - 27s - 931ms/step - accuracy: 0.9719 - loss: 0.1317 - val_accuracy: 0.9619 - val_loss: 0.1663\n",
            "Epoch 26/35\n",
            "29/29 - 0s - 1ms/step - accuracy: 0.0000e+00 - loss: 0.0000e+00\n",
            "Epoch 27/35\n",
            "29/29 - 25s - 864ms/step - accuracy: 0.9754 - loss: 0.1282 - val_accuracy: 0.9714 - val_loss: 0.1621\n",
            "Epoch 28/35\n",
            "29/29 - 5s - 169ms/step - accuracy: 0.0000e+00 - loss: 0.0000e+00\n",
            "Epoch 29/35\n",
            "29/29 - 27s - 916ms/step - accuracy: 0.9825 - loss: 0.1251 - val_accuracy: 0.9714 - val_loss: 0.1585\n",
            "Epoch 30/35\n",
            "29/29 - 0s - 2ms/step - accuracy: 0.0000e+00 - loss: 0.0000e+00\n",
            "Epoch 31/35\n",
            "29/29 - 24s - 840ms/step - accuracy: 0.9825 - loss: 0.1225 - val_accuracy: 0.9714 - val_loss: 0.1560\n",
            "Epoch 32/35\n",
            "29/29 - 0s - 2ms/step - accuracy: 0.0000e+00 - loss: 0.0000e+00\n",
            "Epoch 33/35\n",
            "29/29 - 28s - 966ms/step - accuracy: 0.9860 - loss: 0.1196 - val_accuracy: 0.9714 - val_loss: 0.1541\n",
            "Epoch 34/35\n",
            "29/29 - 0s - 1ms/step - accuracy: 0.0000e+00 - loss: 0.0000e+00\n",
            "Epoch 35/35\n",
            "29/29 - 40s - 1s/step - accuracy: 0.9860 - loss: 0.1171 - val_accuracy: 0.9714 - val_loss: 0.1533\n"
          ]
        },
        {
          "output_type": "execute_result",
          "data": {
            "text/plain": [
              "<keras.src.callbacks.history.History at 0x7d7593994b50>"
            ]
          },
          "metadata": {},
          "execution_count": 135
        }
      ],
      "source": [
        "model.fit(x=train_batches,\n",
        "          steps_per_epoch=len(train_batches),\n",
        "          validation_data=valid_batches,\n",
        "          validation_steps=len(valid_batches),\n",
        "          epochs=35,\n",
        "          verbose=2\n",
        ")"
      ]
    },
    {
      "cell_type": "code",
      "execution_count": null,
      "metadata": {
        "id": "ix25hXtp-etM"
      },
      "outputs": [],
      "source": [
        "model.save(\"fine_tuned_flood_detection_model.keras\")  # Save in Keras format"
      ]
    },
    {
      "cell_type": "code",
      "execution_count": null,
      "metadata": {
        "id": "oS_YUIzm_Vbh",
        "colab": {
          "base_uri": "https://localhost:8080/"
        },
        "outputId": "3084ee03-b9bb-429a-c516-d3cc25f9910f"
      },
      "outputs": [
        {
          "output_type": "stream",
          "name": "stderr",
          "text": [
            "/usr/local/lib/python3.11/dist-packages/keras/src/trainers/data_adapters/py_dataset_adapter.py:122: UserWarning: Your `PyDataset` class should call `super().__init__(**kwargs)` in its constructor. `**kwargs` can include `workers`, `use_multiprocessing`, `max_queue_size`. Do not pass these arguments to `fit()`, as they will be ignored.\n",
            "  self._warn_if_super_not_called()\n"
          ]
        }
      ],
      "source": [
        "test_labels = test_batches.classes\n",
        "predictions = model.predict(x=test_batches, steps=len(test_batches), verbose=0)\n",
        "cm = confusion_matrix(y_true=test_labels, y_pred=predictions.argmax(axis=1))\n",
        "precision = precision_score(y_true=test_labels, y_pred=predictions.argmax(axis=1))\n",
        "f1_score = f1_score(y_true=test_labels, y_pred=predictions.argmax(axis=1))\n",
        "accuracy = accuracy_score(y_true=test_labels, y_pred=predictions.argmax(axis=1))\n",
        "def plot_confusion_matrix(cm, classes,\n",
        "                          normalize=False,\n",
        "                          title='Confusion matrix',\n",
        "                          cmap=plt.cm.Blues):\n",
        "    plt.imshow(cm, interpolation='nearest', cmap=cmap)\n",
        "    plt.title(title)\n",
        "    plt.colorbar()\n",
        "    tick_marks = np.arange(len(classes))\n",
        "    plt.xticks(tick_marks, classes, rotation=45)\n",
        "    plt.yticks(tick_marks, classes)\n",
        "    thresh = cm.max() / 2.\n",
        "    for i, j in itertools.product(range(cm.shape[0]), range(cm.shape[1])):\n",
        "        plt.text(j, i, cm[i, j],\n",
        "            horizontalalignment=\"center\",\n",
        "            color=\"white\" if cm[i, j] > thresh else \"black\")\n",
        "\n",
        "    plt.tight_layout()\n",
        "    plt.ylabel('True label')\n",
        "    plt.xlabel('Predicted label')\n"
      ]
    },
    {
      "cell_type": "code",
      "execution_count": null,
      "metadata": {
        "colab": {
          "base_uri": "https://localhost:8080/"
        },
        "id": "WeC2axzx_inF",
        "outputId": "fc2054fb-fb14-45fd-87b3-45c39f50088b"
      },
      "outputs": [
        {
          "output_type": "stream",
          "name": "stdout",
          "text": [
            "Precision:  0.6292134831460674\n",
            "F1 Score:  0.7368421052631579\n",
            "Accuracy:  0.6078431372549019\n"
          ]
        }
      ],
      "source": [
        "print('Precision: ', precision)\n",
        "print('F1 Score: ', f1_score)\n",
        "print('Accuracy: ', accuracy)\n"
      ]
    },
    {
      "cell_type": "code",
      "execution_count": 69,
      "metadata": {
        "colab": {
          "base_uri": "https://localhost:8080/"
        },
        "id": "Wc6Z5IK2_na9",
        "outputId": "56f0bbd7-ee6f-4b36-9956-b7730ef18de2"
      },
      "outputs": [
        {
          "output_type": "stream",
          "name": "stdout",
          "text": [
            "Confusion Matrix:\n",
            " [[3 1]\n",
            " [1 3]]\n",
            "Precision: 0.75\n",
            "Recall: 0.75\n",
            "F1-Score: 0.75\n"
          ]
        }
      ],
      "source": [
        "from sklearn.metrics import confusion_matrix, precision_score, recall_score, f1_score\n",
        "\n",
        "# True Labels (y_true) and Predicted Labels (y_pred)\n",
        "y_true = [1, 0, 1, 1, 0, 1, 0, 0]  # Actual flood/no-flood labels\n",
        "y_pred = [1, 0, 1, 0, 0, 1, 1, 0]  # Model predictions\n",
        "\n",
        "# Compute metrics\n",
        "conf_matrix = confusion_matrix(y_true, y_pred)\n",
        "precision = precision_score(y_true, y_pred)\n",
        "recall = recall_score(y_true, y_pred)\n",
        "f1 = f1_score(y_true, y_pred)\n",
        "\n",
        "print(\"Confusion Matrix:\\n\", conf_matrix)\n",
        "print(f\"Precision: {precision:.2f}\")\n",
        "print(f\"Recall: {recall:.2f}\")\n",
        "print(f\"F1-Score: {f1:.2f}\")\n"
      ]
    },
    {
      "cell_type": "code",
      "execution_count": 70,
      "metadata": {
        "id": "arSwu9HB_1xq"
      },
      "outputs": [],
      "source": [
        "def preprocess_image(file):\n",
        "    img_path = '/content/drive/MyDrive/Resume Projects/Deep Learning/evaluate'\n",
        "    img = image.load_img(img_path + file, target_size=(224, 224))\n",
        "    img_array = image.img_to_array(img)\n",
        "    img_array_expanded_dims = np.expand_dims(img_array, axis=0)\n",
        "    return tf.keras.applications.mobilenet.preprocess_input(img_array_expanded_dims)"
      ]
    },
    {
      "cell_type": "code",
      "execution_count": 83,
      "metadata": {
        "colab": {
          "base_uri": "https://localhost:8080/",
          "height": 217
        },
        "id": "W85g0jRdAEw3",
        "outputId": "47f7dd46-2495-4533-b577-f9b1df4c00d8"
      },
      "outputs": [
        {
          "output_type": "execute_result",
          "data": {
            "image/jpeg": "[encoded data removed]",
            "text/plain": [
              "<IPython.core.display.Image object>"
            ]
          },
          "metadata": {
            "image/jpeg": {
              "width": 300,
              "height": 200
            }
          },
          "execution_count": 83
        }
      ],
      "source": [
        "from IPython.display import Image\n",
        "Image(filename='/content/drive/MyDrive/Resume Projects/Deep Learning/evaluate/10088.jpg', width=300,height=200)"
      ]
    },
    {
      "cell_type": "code",
      "execution_count": 85,
      "metadata": {
        "colab": {
          "base_uri": "https://localhost:8080/"
        },
        "id": "jlncZKZeAM_Q",
        "outputId": "027ae3a2-dd99-4660-8b8b-dac2d3fcfc7b"
      },
      "outputs": [
        {
          "output_type": "stream",
          "name": "stdout",
          "text": [
            "\u001b[1m1/1\u001b[0m \u001b[32m━━━━━━━━━━━━━━━━━━━━\u001b[0m\u001b[37m\u001b[0m \u001b[1m0s\u001b[0m 73ms/step\n"
          ]
        }
      ],
      "source": [
        "preprocessed_image = preprocess_image('/10088.jpg')\n",
        "predictions = model.predict(preprocessed_image)"
      ]
    },
    {
      "cell_type": "code",
      "execution_count": 86,
      "metadata": {
        "colab": {
          "base_uri": "https://localhost:8080/"
        },
        "id": "TEmXFmLNAWUc",
        "outputId": "00212474-4df4-4e09-d3f4-301e4d13dec4"
      },
      "outputs": [
        {
          "output_type": "execute_result",
          "data": {
            "text/plain": [
              "array([[0.85571176, 0.14428827]], dtype=float32)"
            ]
          },
          "metadata": {},
          "execution_count": 86
        }
      ],
      "source": [
        "predictions\n"
      ]
    },
    {
      "cell_type": "code",
      "execution_count": 87,
      "metadata": {
        "id": "KsHpoBggAjB7"
      },
      "outputs": [],
      "source": [
        "result = np.argmax(predictions)"
      ]
    },
    {
      "cell_type": "code",
      "execution_count": 88,
      "metadata": {
        "colab": {
          "base_uri": "https://localhost:8080/"
        },
        "id": "BxSZJfPiAnVo",
        "outputId": "ada07a3f-b068-484f-eec1-7814d953e710"
      },
      "outputs": [
        {
          "output_type": "stream",
          "name": "stdout",
          "text": [
            "Flooding\n"
          ]
        }
      ],
      "source": [
        "# Modify the threshold condition to 60%\n",
        "if predictions[0, result] > 0.6:\n",
        "    print(labels[result])\n",
        "else:\n",
        "    print(\"No Flooding\")"
      ]
    },
    {
      "cell_type": "code",
      "source": [],
      "metadata": {
        "id": "ZPaEynKqpqfR"
      },
      "execution_count": 76,
      "outputs": []
    }
  ],
  "metadata": {
    "colab": {
      "provenance": [],
      "mount_file_id": "10YoigrmRVow6zUlLdlvZDwDumWirOlVO",
      "authorship_tag": "ABX9TyNpisz84ER1y3RzkHJKhJyl",
      "include_colab_link": true
    },
    "kernelspec": {
      "display_name": "Python 3",
      "name": "python3"
    },
    "language_info": {
      "name": "python"
    }
  },
  "nbformat": 4,
  "nbformat_minor": 0
}